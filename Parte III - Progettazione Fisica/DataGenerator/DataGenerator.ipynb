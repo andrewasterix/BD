{
 "cells": [
  {
   "cell_type": "markdown",
   "metadata": {},
   "source": [
    "# DataGenerator - Progetto Basi di Dati - 2022/2023 - \"OrtiScolastici\"\n",
    "\n",
    "Questo notebook contiene il codice per la generazione dei dati fittizi da inserire nel database.\n",
    "\n",
    "## Import delle librerie"
   ]
  },
  {
   "cell_type": "code",
   "execution_count": 8,
   "metadata": {},
   "outputs": [
    {
     "name": "stdout",
     "output_type": "stream",
     "text": [
      "Requirement already satisfied: Faker in c:\\users\\andre\\appdata\\local\\packages\\pythonsoftwarefoundation.python.3.10_qbz5n2kfra8p0\\localcache\\local-packages\\python310\\site-packages (18.10.1)\n",
      "Requirement already satisfied: python-dateutil>=2.4 in c:\\users\\andre\\appdata\\local\\packages\\pythonsoftwarefoundation.python.3.10_qbz5n2kfra8p0\\localcache\\local-packages\\python310\\site-packages (from Faker) (2.8.2)\n",
      "Requirement already satisfied: six>=1.5 in c:\\users\\andre\\appdata\\local\\packages\\pythonsoftwarefoundation.python.3.10_qbz5n2kfra8p0\\localcache\\local-packages\\python310\\site-packages (from python-dateutil>=2.4->Faker) (1.16.0)\n",
      "Note: you may need to restart the kernel to use updated packages.\n",
      "Requirement already satisfied: psycopg2 in c:\\users\\andre\\appdata\\local\\packages\\pythonsoftwarefoundation.python.3.10_qbz5n2kfra8p0\\localcache\\local-packages\\python310\\site-packages (2.9.6)\n",
      "Note: you may need to restart the kernel to use updated packages.\n"
     ]
    }
   ],
   "source": [
    "%pip install Faker\n",
    "%pip install psycopg2"
   ]
  },
  {
   "cell_type": "markdown",
   "metadata": {},
   "source": [
    "## Librerie per la generazione dei dati"
   ]
  },
  {
   "cell_type": "code",
   "execution_count": 9,
   "metadata": {},
   "outputs": [],
   "source": [
    "import random\n",
    "from faker import Faker\n",
    "import psycopg2\n",
    "import re\n",
    "import os"
   ]
  },
  {
   "cell_type": "markdown",
   "metadata": {},
   "source": [
    "## Variabili globali"
   ]
  },
  {
   "cell_type": "markdown",
   "metadata": {},
   "source": [
    "Per effetturre una connessione corretta al proprio database, è necessario modificare le variabili nella funzione psycopg2.connect(). "
   ]
  },
  {
   "cell_type": "code",
   "execution_count": 10,
   "metadata": {},
   "outputs": [],
   "source": [
    "# Connessione al database PostgreSQL\n",
    "conn = psycopg2.connect(\n",
    "    host=\"localhost\",\n",
    "    port=\"5432\",\n",
    "    database=\"ProgettoLarge\",\n",
    "    user=\"postgres\",\n",
    "    password=\"andrea\"\n",
    ")"
   ]
  },
  {
   "cell_type": "code",
   "execution_count": 11,
   "metadata": {},
   "outputs": [],
   "source": [
    "# Creazione del cursore\n",
    "cursor = conn.cursor()\n",
    "\n",
    "# Creazione dell'istanza di Faker per la generazione di dati casuali\n",
    "fake = Faker('it_IT')\n",
    "\n",
    "# Eliminazione del file di popolamento se esiste\n",
    "file_path = r'..\\[ Parte III.A ] PopolamentoLarge.sql'\n",
    "if os.path.exists(file_path):\n",
    "    os.remove(file_path)\n",
    "\n",
    "# Variabili globali per le chiavi esterne\n",
    "dirigenti = []\n",
    "scuole = []\n",
    "\n",
    "# Funzione per la gestione delle query\n",
    "def execute_query(query, write_to_file=True):\n",
    "    cursor.execute(query)\n",
    "    conn.commit()\n",
    "\n",
    "    if write_to_file:\n",
    "        with open(file_path, 'a') as f:\n",
    "            f.write(query + '\\n')"
   ]
  },
  {
   "cell_type": "markdown",
   "metadata": {},
   "source": [
    "## Settaggio del percorso del database"
   ]
  },
  {
   "cell_type": "code",
   "execution_count": 12,
   "metadata": {},
   "outputs": [],
   "source": [
    "execute_query(\"SET search_path TO 'OrtiScolastici'\")\n",
    "execute_query(\"SET datestyle TO 'MDY'\")\n",
    "execute_query(\"SET timezone TO 'GMT'\")"
   ]
  },
  {
   "cell_type": "markdown",
   "metadata": {},
   "source": [
    "## Inserimento di dati nella tabella Persona"
   ]
  },
  {
   "cell_type": "code",
   "execution_count": 13,
   "metadata": {},
   "outputs": [],
   "source": [
    "def insert_persona():\n",
    "    for _ in range(100):\n",
    "        email = fake.email()\n",
    "        nome = fake.first_name()\n",
    "        cognome = fake.last_name()\n",
    "        telefono = fake.random_number(digits=10)\n",
    "        rilevatore_esterno = random.choice([True, False])\n",
    "\n",
    "        query = f\"INSERT INTO Persona (Email, Nome, Cognome, Telefono, RilevatoreEsterno) \" \\\n",
    "                f\"VALUES ('{email}', '{nome}', '{cognome}', '{telefono}', {rilevatore_esterno});\"\n",
    "        cursor.execute(query)"
   ]
  },
  {
   "cell_type": "markdown",
   "metadata": {},
   "source": [
    "## Inserimento di dati nella tabella Scuola"
   ]
  },
  {
   "cell_type": "code",
   "execution_count": 14,
   "metadata": {},
   "outputs": [],
   "source": [
    "def insert_scuola():\n",
    "    for _ in range(10):\n",
    "        cod_meccanografico = fake.random_number(digits=10)\n",
    "        nome_scuola = fake.company()\n",
    "        ciclo_istruzione = random.randint(1, 2)\n",
    "        comune = re.sub(r'[^\\w\\s]', '', fake.city())\n",
    "        provincia = fake.state()\n",
    "        collabora = random.choice([True, False])\n",
    "        finanziamento = fake.word()\n",
    "\n",
    "        dirigenti_stringa = ', '.join([\"'\" + elemento + \"'\" for elemento in dirigenti])\n",
    "\n",
    "        query = f\"SELECT Email FROM Persona WHERE RilevatoreEsterno = False\" \n",
    "        query += f\" AND Email NOT IN ({dirigenti_stringa});\" if dirigenti_stringa != \"\" else f\";\"\n",
    "        cursor.execute(query)\n",
    "        rows = cursor.fetchall()\n",
    "\n",
    "        dirigente = rows[random.randint(0, len(rows) - 1)][0]\n",
    "        referente = dirigente if finanziamento != \"\" else 'NULL'\n",
    "\n",
    "        dirigenti.append(dirigente)\n",
    "\n",
    "        query = f\"INSERT INTO Scuola (Cod_Meccanografico, NomeScuola, CicloIstruzione, Comune, Provincia, Collabora, \" \\\n",
    "                f\"Finanziamento, Dirigente, Referente) \" \\\n",
    "                f\"VALUES ('{cod_meccanografico}', '{nome_scuola}', {ciclo_istruzione}, '{comune}', '{provincia}', \" \\\n",
    "                f\"{collabora}, '{finanziamento}', '{dirigente}', '{referente}');\"\n",
    "        execute_query(query)"
   ]
  },
  {
   "cell_type": "markdown",
   "metadata": {},
   "source": [
    "## Inserimento di dati nella tabella Classe"
   ]
  },
  {
   "cell_type": "code",
   "execution_count": 15,
   "metadata": {},
   "outputs": [],
   "source": [
    "def insert_classe():\n",
    "    # Selezione di una scuola a caso\n",
    "    query = f\"SELECT Cod_Meccanografico FROM Scuola;\"\n",
    "    cursor.execute(query)\n",
    "    rows = cursor.fetchall()\n",
    "    for row in rows:\n",
    "        scuole.append(row[0])\n",
    "\n",
    "    scuola = None\n",
    "    \n",
    "    for i in range(0, 19):\n",
    "        id_classe = fake.random_number(digits=10)\n",
    "        sezione = fake.random_letter()\n",
    "        ordine = random.randint(1, 2)\n",
    "        \n",
    "        if i < 2:\n",
    "            scuola = scuole[0]  # Prima scuola\n",
    "        elif i < len(scuole):\n",
    "            scuola = scuole[(i // 2) * 2]  # Scuola in base all'indice\n",
    "        else:\n",
    "            scuola = scuole[len(scuole) - 1]\n",
    "        tipo_scuola = fake.word()\n",
    "        \n",
    "        # Query per escludere i dirigenti dalle classi\n",
    "        dirigenti_stringa = ', '.join([\"'\" + elemento + \"'\" for elemento in dirigenti])\n",
    "\n",
    "        query = f\"SELECT Email FROM Persona WHERE RilevatoreEsterno = False\" \n",
    "        query += f\" AND Email NOT IN ({dirigenti_stringa});\" if dirigenti_stringa != \"\" else f\";\"\n",
    "        cursor.execute(query)\n",
    "        rows = cursor.fetchall()\n",
    "\n",
    "        docente = rows[random.randint(0, len(rows) - 1)][0]\n",
    "\n",
    "        query = f\"INSERT INTO Classe (IdClasse, Sezione, Scuola, Ordine, TipoScuola, Docente) \" \\\n",
    "                f\"VALUES ('{id_classe}', '{sezione}', '{scuola}', {ordine}, '{tipo_scuola}', '{docente}');\"\n",
    "        execute_query(query)"
   ]
  },
  {
   "cell_type": "markdown",
   "metadata": {},
   "source": [
    "## Inserimento di dati nella tabella Specie"
   ]
  },
  {
   "cell_type": "code",
   "execution_count": 16,
   "metadata": {},
   "outputs": [],
   "source": [
    "def insert_specie():\n",
    "    substrato_choices = ['TerriccioRinvaso', 'SuoloPreEsistente']\n",
    "\n",
    "    for _ in range(50):\n",
    "        nome_scientifico = fake.unique.word()\n",
    "        substrato = random.choice(substrato_choices)\n",
    "\n",
    "        query = f\"INSERT INTO Specie (NomeScientifico, Substrato) VALUES ('{nome_scientifico}', '{substrato}');\"\n",
    "        execute_query(query)"
   ]
  },
  {
   "cell_type": "markdown",
   "metadata": {},
   "source": [
    "## Inserimento di dati nella tabella Orto"
   ]
  },
  {
   "cell_type": "code",
   "execution_count": 17,
   "metadata": {},
   "outputs": [],
   "source": [
    "def insert_orto():\n",
    "    query = \"SELECT Cod_Meccanografico FROM Scuola;\"\n",
    "    cursor.execute(query)\n",
    "    scuola_ids = [row[0] for row in cursor.fetchall()]\n",
    "\n",
    "    query = \"SELECT NomeScientifico FROM Specie;\"\n",
    "    cursor.execute(query)\n",
    "    specie_names = [row[0] for row in cursor.fetchall()]\n",
    "\n",
    "    for _ in range(30):\n",
    "        id_orto = fake.random_number(digits=10)\n",
    "        nome_orto = fake.word()\n",
    "        latitudine = fake.latitude()\n",
    "        longitudine = fake.longitude()\n",
    "        superficie = random.uniform(1, 100)\n",
    "        posizione = random.choice(['Vaso', 'Terra'])\n",
    "        condizione_ambientale = random.choice(['Pulito', 'Inquinato'])\n",
    "        specie = random.choice(specie_names)\n",
    "        scuola = random.choice(scuola_ids)\n",
    "\n",
    "        query = f\"INSERT INTO Orto (IdOrto, NomeOrto, Latitudine, Longitudine, Superficie, Posizione, \" \\\n",
    "                f\"CondizioneAmbientale, Specie, Scuola) \" \\\n",
    "                f\"VALUES ('{id_orto}', '{nome_orto}', '{latitudine}', '{longitudine}', '{superficie}', \" \\\n",
    "                f\"'{posizione}', '{condizione_ambientale}', '{specie}', '{scuola}');\"\n",
    "        execute_query(query)"
   ]
  },
  {
   "cell_type": "markdown",
   "metadata": {},
   "source": [
    "## Inserimento di dati nella tabella Pianta"
   ]
  },
  {
   "cell_type": "code",
   "execution_count": 18,
   "metadata": {},
   "outputs": [],
   "source": [
    "def insert_pianta():\n",
    "    query = \"SELECT IdClasse FROM Classe;\"\n",
    "    cursor.execute(query)\n",
    "    class_ids = [row[0] for row in cursor.fetchall()]\n",
    "\n",
    "    query = \"SELECT NomeScientifico FROM Specie;\"\n",
    "    cursor.execute(query)\n",
    "    specie_names = [row[0] for row in cursor.fetchall()]\n",
    "\n",
    "    for _ in range(100):\n",
    "        numero_replica = fake.random_number(digits=10)\n",
    "        nome_comune = fake.word()\n",
    "        scopo = random.choice(['Fitobotanica', 'Biomonitoraggio'])\n",
    "        data_messa_dimora = fake.date()\n",
    "\n",
    "        specie = random.choice(specie_names)\n",
    "        classe = random.choice(class_ids)\n",
    "\n",
    "        query = f\"INSERT INTO Pianta (NumeroReplica, NomeComune, Scopo, DataMessaDimora, Specie, Classe) \" \\\n",
    "                f\"VALUES ('{numero_replica}', '{nome_comune}', '{scopo}', '{data_messa_dimora}', \" \\\n",
    "                f\"'{specie}', '{classe}');\"\n",
    "        execute_query(query)"
   ]
  },
  {
   "cell_type": "markdown",
   "metadata": {},
   "source": [
    "## Inserimento di dati nella tabella Esposizione"
   ]
  },
  {
   "cell_type": "code",
   "execution_count": 19,
   "metadata": {},
   "outputs": [],
   "source": [
    "def insert_esposizione():\n",
    "    query = \"SELECT NumeroReplica, NomeComune FROM Pianta;\"\n",
    "    cursor.execute(query)\n",
    "    pianta_data = cursor.fetchall()\n",
    "\n",
    "    for pianta in pianta_data:\n",
    "        numero_replica, nome_comune = pianta\n",
    "        tipo_esposizione = random.choice(['Sole', 'Mezzombra', 'Ombra'])\n",
    "\n",
    "        query = f\"INSERT INTO Esposizione (NumeroReplica, NomeComune, TipoEsposizione) \" \\\n",
    "                f\"VALUES ('{numero_replica}', '{nome_comune}', '{tipo_esposizione}');\"\n",
    "        execute_query(query)"
   ]
  },
  {
   "cell_type": "markdown",
   "metadata": {},
   "source": [
    "## Inserimento di dati nella tabella Gruppo"
   ]
  },
  {
   "cell_type": "code",
   "execution_count": 20,
   "metadata": {},
   "outputs": [],
   "source": [
    "def insert_gruppo():\n",
    "    tipo_gruppo = ['Controllo', 'Monitoraggio']\n",
    "\n",
    "    query = \"SELECT NumeroReplica, NomeComune FROM Pianta;\"\n",
    "    cursor.execute(query)\n",
    "    pianta_data = cursor.fetchall()\n",
    "\n",
    "    for pianta in pianta_data:\n",
    "        numero_replica, nome_comune = pianta\n",
    "        tipo = random.choice(tipo_gruppo)\n",
    "        id_gruppo = fake.random_int(min=1, max=100)\n",
    "\n",
    "        query = f\"INSERT INTO Gruppo (IdGruppo, TipoGruppo, NumeroReplica, NomeComune) \" \\\n",
    "                f\"VALUES ({id_gruppo}, '{tipo}', '{numero_replica}', '{nome_comune}');\"\n",
    "        execute_query(query)"
   ]
  },
  {
   "cell_type": "markdown",
   "metadata": {},
   "source": [
    "## Inserimento di dati nella tabella Sensore"
   ]
  },
  {
   "cell_type": "code",
   "execution_count": 21,
   "metadata": {},
   "outputs": [],
   "source": [
    "def insert_sensore():\n",
    "    tipo_sensore = ['Arduino', 'Sensore']\n",
    "    tipo_acquisizione = ['Arduino', 'App']\n",
    "\n",
    "    for i in range(1, 6):\n",
    "        tipo = random.choice(tipo_sensore)\n",
    "        acquisizione = random.choice(tipo_acquisizione)\n",
    "\n",
    "        query = f\"INSERT INTO Sensore (IdSensore, TipoSensore, TipoAcquisizione) \" \\\n",
    "                f\"VALUES ({i}, '{tipo}', '{acquisizione}');\"\n",
    "        execute_query(query)"
   ]
  },
  {
   "cell_type": "markdown",
   "metadata": {},
   "source": [
    "## Inserimento di dati nella tabella Rilevazione"
   ]
  },
  {
   "cell_type": "code",
   "execution_count": 22,
   "metadata": {},
   "outputs": [],
   "source": [
    "def insert_rilevazione():\n",
    "    query = \"SELECT IdSensore FROM Sensore;\"\n",
    "    cursor.execute(query)\n",
    "    sensore_ids = [row[0] for row in cursor.fetchall()]\n",
    "\n",
    "    query = \"SELECT NumeroReplica, NomeComune FROM Pianta;\"\n",
    "    cursor.execute(query)\n",
    "    pianta_data = cursor.fetchall()\n",
    "\n",
    "    index = 1\n",
    "    for pianta in pianta_data:\n",
    "        numero_replica, nome_comune = pianta\n",
    "        data_ora_rilevazione = fake.date_time_this_decade()\n",
    "        data_ora_inserimento = fake.date_time_between(start_date=data_ora_rilevazione)\n",
    "\n",
    "        sensore = random.choice(sensore_ids)\n",
    "\n",
    "        query = f\"INSERT INTO Rilevazione (IdRilevazione, NumeroReplica, NomeComune, DataOraRilevazione, DataOraInserimento, \" \\\n",
    "                f\"Sensore) \" \\\n",
    "                f\"VALUES ({index}, '{numero_replica}', '{nome_comune}', '{data_ora_rilevazione}', '{data_ora_inserimento}', \" \\\n",
    "                f\"'{sensore}');\"\n",
    "        execute_query(query)\n",
    "        index += 1"
   ]
  },
  {
   "cell_type": "markdown",
   "metadata": {},
   "source": [
    "## Inserimento di dati nella tabella Dati"
   ]
  },
  {
   "cell_type": "code",
   "execution_count": 23,
   "metadata": {},
   "outputs": [],
   "source": [
    "def insert_dati():\n",
    "    query = \"SELECT IdRilevazione FROM Rilevazione;\"\n",
    "    cursor.execute(query)\n",
    "    rilevazione_ids = [row[0] for row in cursor.fetchall()]\n",
    "\n",
    "    for rilevazione in rilevazione_ids:\n",
    "        temperatura = random.uniform(10, 30)\n",
    "        umidita = random.uniform(30, 80)\n",
    "        ph = random.uniform(5, 8)\n",
    "        foglie_danneggiate = random.randint(0, 10)\n",
    "        superficie_foglie_danneggiate = random.uniform(0, 100)\n",
    "        fiori = random.randint(0, 20)\n",
    "        frutti = random.randint(0, 50)\n",
    "        altezza_pianta = random.uniform(10, 200)\n",
    "        lunghezza_radice = random.uniform(10, 200)\n",
    "\n",
    "        query = f\"INSERT INTO Dati (Rilevazione, Temperatura, Umidita, Ph, FoglieDanneggiate, \" \\\n",
    "                f\"SuperficieFoglieDanneggiate, Fiori, Frutti, AltezzaPianta, LunghezzaRadice) \" \\\n",
    "                f\"VALUES ('{rilevazione}', {temperatura}, {umidita}, {ph}, {foglie_danneggiate}, \" \\\n",
    "                f\"{superficie_foglie_danneggiate}, {fiori}, {frutti}, {altezza_pianta}, {lunghezza_radice});\"\n",
    "        execute_query(query)"
   ]
  },
  {
   "cell_type": "markdown",
   "metadata": {},
   "source": [
    "## Inserimento di dati nella tabella Responsabile"
   ]
  },
  {
   "cell_type": "code",
   "execution_count": 24,
   "metadata": {},
   "outputs": [],
   "source": [
    "def insert_responsabile():\n",
    "    query = \"SELECT IdRilevazione FROM Rilevazione;\"\n",
    "    cursor.execute(query)\n",
    "    rilevazione_ids = [row[0] for row in cursor.fetchall()]\n",
    "\n",
    "    query = \"SELECT Email FROM Persona;\"\n",
    "    cursor.execute(query)\n",
    "    persona_emails = [row[0] for row in cursor.fetchall()]\n",
    "\n",
    "    query = \"SELECT IdClasse FROM Classe;\"\n",
    "    cursor.execute(query)\n",
    "    classe_ids = [row[0] for row in cursor.fetchall()]\n",
    "\n",
    "    for rilevazione in rilevazione_ids:\n",
    "        \n",
    "        index = random.randint(0, 3)\n",
    "\n",
    "        if index == 0:\n",
    "            inserimento_persona = random.choice(persona_emails)\n",
    "            query = f\"INSERT INTO Responsabile (Rilevazione, InserimentoPersona, RilevatorePersona, \" \\\n",
    "                f\"InserimentoClasse, RilevatoreClasse) \" \\\n",
    "                f\"VALUES ('{rilevazione}', '{inserimento_persona}', NULL, \" \\\n",
    "                f\"NULL, NULL);\"\n",
    "        elif index == 1:\n",
    "            rilevatore_persona = random.choice(persona_emails)\n",
    "            inserimento_classe = random.choice(classe_ids)\n",
    "            query = f\"INSERT INTO Responsabile (Rilevazione, InserimentoPersona, RilevatorePersona, \" \\\n",
    "                f\"InserimentoClasse, RilevatoreClasse) \" \\\n",
    "                f\"VALUES ('{rilevazione}', NULL, '{rilevatore_persona}', \" \\\n",
    "                f\"'{inserimento_classe}', NULL);\"\n",
    "        elif index == 2:\n",
    "            inserimento_persona = random.choice(persona_emails)\n",
    "            rilevatore_classe = random.choice(classe_ids)\n",
    "            query = f\"INSERT INTO Responsabile (Rilevazione, InserimentoPersona, RilevatorePersona, \" \\\n",
    "                f\"InserimentoClasse, RilevatoreClasse) \" \\\n",
    "                f\"VALUES ('{rilevazione}', '{inserimento_persona}', NULL, \" \\\n",
    "                f\"NULL, '{rilevatore_classe}');\"\n",
    "        else:\n",
    "            inserimento_persona = None\n",
    "            rilevatore_persona = None\n",
    "            inserimento_classe = random.choice(classe_ids)\n",
    "            rilevatore_classe = None\n",
    "            query = f\"INSERT INTO Responsabile (Rilevazione, InserimentoPersona, RilevatorePersona, \" \\\n",
    "                f\"InserimentoClasse, RilevatoreClasse) \" \\\n",
    "                f\"VALUES ('{rilevazione}', NULL, NULL, \" \\\n",
    "                f\"{inserimento_classe}, NULL);\"\n",
    "\n",
    "        execute_query(query)"
   ]
  },
  {
   "cell_type": "code",
   "execution_count": 25,
   "metadata": {},
   "outputs": [],
   "source": [
    "insert_persona()"
   ]
  },
  {
   "cell_type": "code",
   "execution_count": 26,
   "metadata": {},
   "outputs": [],
   "source": [
    "insert_scuola()"
   ]
  },
  {
   "cell_type": "code",
   "execution_count": 27,
   "metadata": {},
   "outputs": [],
   "source": [
    "insert_classe()"
   ]
  },
  {
   "cell_type": "code",
   "execution_count": 28,
   "metadata": {},
   "outputs": [],
   "source": [
    "insert_specie()"
   ]
  },
  {
   "cell_type": "code",
   "execution_count": 29,
   "metadata": {},
   "outputs": [],
   "source": [
    "insert_orto()"
   ]
  },
  {
   "cell_type": "code",
   "execution_count": 30,
   "metadata": {},
   "outputs": [],
   "source": [
    "insert_pianta()"
   ]
  },
  {
   "cell_type": "code",
   "execution_count": 31,
   "metadata": {},
   "outputs": [],
   "source": [
    "insert_esposizione()"
   ]
  },
  {
   "cell_type": "code",
   "execution_count": 32,
   "metadata": {},
   "outputs": [],
   "source": [
    "insert_gruppo()"
   ]
  },
  {
   "cell_type": "code",
   "execution_count": 33,
   "metadata": {},
   "outputs": [],
   "source": [
    "insert_sensore()"
   ]
  },
  {
   "cell_type": "code",
   "execution_count": 34,
   "metadata": {},
   "outputs": [],
   "source": [
    "insert_rilevazione()"
   ]
  },
  {
   "cell_type": "code",
   "execution_count": 35,
   "metadata": {},
   "outputs": [],
   "source": [
    "insert_dati()"
   ]
  },
  {
   "cell_type": "code",
   "execution_count": 36,
   "metadata": {},
   "outputs": [],
   "source": [
    "insert_responsabile()"
   ]
  },
  {
   "cell_type": "code",
   "execution_count": 37,
   "metadata": {},
   "outputs": [],
   "source": [
    "# Close the database connection\n",
    "cursor.close()\n",
    "conn.close()"
   ]
  }
 ],
 "metadata": {
  "kernelspec": {
   "display_name": "Python 3",
   "language": "python",
   "name": "python3"
  },
  "language_info": {
   "codemirror_mode": {
    "name": "ipython",
    "version": 3
   },
   "file_extension": ".py",
   "mimetype": "text/x-python",
   "name": "python",
   "nbconvert_exporter": "python",
   "pygments_lexer": "ipython3",
   "version": "3.10.11"
  },
  "orig_nbformat": 4
 },
 "nbformat": 4,
 "nbformat_minor": 2
}
